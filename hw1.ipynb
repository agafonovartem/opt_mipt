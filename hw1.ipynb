{
 "cells": [
  {
   "cell_type": "markdown",
   "metadata": {},
   "source": [
    "## Задача 1"
   ]
  },
  {
   "cell_type": "markdown",
   "metadata": {},
   "source": [
    "1. $\\lim \\limits_{k \\rightarrow +\\infty} \\dfrac{r_{k+1}}{r_k} = 0,707 < 1$ -- линейная скорость сходимости по тесту отношений. \n",
    "Также эта последовательность удовлетворяет определению линейной сходимости, т.к. мы можем подобрать константу $C = 1$, что $r_k = 0.707^k \\leqslant C\\cdot q^k$, где $q=0.707$.\n",
    "2. Квадратичная скорость сходимости, т.к. удовлетворяет определению: $\\exists C = 1$, такое, что для любого достаточно большого $k$:$r_{k+1} = 0,707^{2^{k+1}} \\leqslant Cr_k^2 = ({0,707^2}^k)^2 $. \n",
    "3. $\\lim \\limits_{k \\rightarrow +\\infty} \\dfrac{r_{k+1}}{r_k} = \\lim \\limits_{k \\rightarrow +\\infty} \\dfrac{k^2}{(k+1)^2} = 1$ -- сублинейная скорость сходимости по тесту отношений.\n",
    "4. $\\lim \\limits_{k \\rightarrow +\\infty} \\dfrac{r_{k+1}}{r_k} = \\lim \\limits_{k \\rightarrow +\\infty} \\dfrac{k!}{(k+1)!} = 0$ -- сверхлинейная скорость сходимости по тесту отношений.\n",
    "5. $\\lim\\limits_{k \\rightarrow + \\infty} (\\frac{1}{k})^{1/k} = 1$ -- сублинейная скорость сходимсоти по тесту корней (взяли $\\frac{1}{k}$ так как супремум).\n",
    "6. $\\lim\\limits_{k \\rightarrow + \\infty} (\\frac{1}{k^k})^{1/k} = \\lim\\limits_{k \\rightarrow + \\infty}=0$ -- сверхлинейная скорость сходимсоти по тесту корней(взяли $\\frac{1}{k^k}$ так как супремум).\n"
   ]
  },
  {
   "cell_type": "markdown",
   "metadata": {},
   "source": [
    "## Задача 2"
   ]
  },
  {
   "cell_type": "code",
   "execution_count": 21,
   "metadata": {},
   "outputs": [],
   "source": [
    "import math\n",
    "import numpy as np\n",
    "import matplotlib.pyplot as plt\n",
    "import matplotlib.dates as mdates\n",
    "%matplotlib inline"
   ]
  },
  {
   "cell_type": "markdown",
   "metadata": {},
   "source": [
    "Рассматриваемая функция:"
   ]
  },
  {
   "cell_type": "code",
   "execution_count": 22,
   "metadata": {},
   "outputs": [
    {
     "data": {
      "image/png": "[encoded data removed]",
      "text/plain": [
       "<matplotlib.figure.Figure at 0x10e7716d0>"
      ]
     },
     "metadata": {
      "needs_background": "light"
     },
     "output_type": "display_data"
    }
   ],
   "source": [
    "def f(x):\n",
    "    return x*np.exp(x)+np.sin(np.exp(x))\n",
    "\n",
    "t1 = np.arange(-5.0, 0.0, 0.1)\n",
    "plt.plot(t1, f(t1))\n",
    "plt.show()"
   ]
  },
  {
   "cell_type": "markdown",
   "metadata": {},
   "source": [
    "### Эксперементы при различных фиксированных $t \\in [0,1]$."
   ]
  },
  {
   "cell_type": "code",
   "execution_count": 23,
   "metadata": {},
   "outputs": [],
   "source": [
    "def search(f, a, b, t, epsilon):\n",
    "    c = a + t*(b - a)\n",
    "    i = 0\n",
    "    while abs(b - a) > epsilon:\n",
    "        i = i + 1\n",
    "        y = a + t*(c - a) \n",
    "        if f(y) <= f(c):\n",
    "            b = c\n",
    "            c = y\n",
    "        else:\n",
    "            z = c + t*(b - c) \n",
    "            if f(c) <= f(z):\n",
    "                a = y\n",
    "                b = z\n",
    "                c = a + t * (b - a)\n",
    "            else:\n",
    "                a = c\n",
    "                c = z\n",
    "    return c, i"
   ]
  },
  {
   "cell_type": "markdown",
   "metadata": {},
   "source": [
    "Проведем по 5 эксперементов для кажого $t$."
   ]
  },
  {
   "cell_type": "code",
   "execution_count": 24,
   "metadata": {
    "scrolled": true
   },
   "outputs": [
    {
     "name": "stdout",
     "output_type": "stream",
     "text": [
      "t = 0.05 N = 77 x_min =  -1.99068452679\n",
      "t = 0.05 N = 77 x_min =  -1.99068452679\n",
      "t = 0.05 N = 77 x_min =  -1.99068452679\n",
      "t = 0.05 N = 77 x_min =  -1.99068452679\n",
      "t = 0.05 N = 77 x_min =  -1.99068452679\n",
      "t = 0.1 N = 56 x_min =  -1.99068448025\n",
      "t = 0.1 N = 56 x_min =  -1.99068448025\n",
      "t = 0.1 N = 56 x_min =  -1.99068448025\n",
      "t = 0.1 N = 56 x_min =  -1.99068448025\n",
      "t = 0.1 N = 56 x_min =  -1.99068448025\n",
      "t = 0.15 N = 41 x_min =  -1.99068449817\n",
      "t = 0.15 N = 41 x_min =  -1.99068449817\n",
      "t = 0.15 N = 41 x_min =  -1.99068449817\n",
      "t = 0.15 N = 41 x_min =  -1.99068449817\n",
      "t = 0.15 N = 41 x_min =  -1.99068449817\n",
      "t = 0.2 N = 32 x_min =  -1.99068450116\n",
      "t = 0.2 N = 32 x_min =  -1.99068450116\n",
      "t = 0.2 N = 32 x_min =  -1.99068450116\n",
      "t = 0.2 N = 32 x_min =  -1.99068450116\n",
      "t = 0.2 N = 32 x_min =  -1.99068450116\n",
      "t = 0.25 N = 33 x_min =  -1.99068445119\n",
      "t = 0.25 N = 33 x_min =  -1.99068445119\n",
      "t = 0.25 N = 33 x_min =  -1.99068445119\n",
      "t = 0.25 N = 33 x_min =  -1.99068445119\n",
      "t = 0.25 N = 33 x_min =  -1.99068445119\n",
      "t = 0.3 N = 28 x_min =  -1.99068448279\n",
      "t = 0.3 N = 28 x_min =  -1.99068448279\n",
      "t = 0.3 N = 28 x_min =  -1.99068448279\n",
      "t = 0.3 N = 28 x_min =  -1.99068448279\n",
      "t = 0.3 N = 28 x_min =  -1.99068448279\n",
      "t = 0.35 N = 28 x_min =  -1.99068446571\n",
      "t = 0.35 N = 28 x_min =  -1.99068446571\n",
      "t = 0.35 N = 28 x_min =  -1.99068446571\n",
      "t = 0.35 N = 28 x_min =  -1.99068446571\n",
      "t = 0.35 N = 28 x_min =  -1.99068446571\n",
      "t = 0.4 N = 27 x_min =  -1.99068447888\n",
      "t = 0.4 N = 27 x_min =  -1.99068447888\n",
      "t = 0.4 N = 27 x_min =  -1.99068447888\n",
      "t = 0.4 N = 27 x_min =  -1.99068447888\n",
      "t = 0.4 N = 27 x_min =  -1.99068447888\n",
      "t = 0.45 N = 26 x_min =  -1.99068448245\n",
      "t = 0.45 N = 26 x_min =  -1.99068448245\n",
      "t = 0.45 N = 26 x_min =  -1.99068448245\n",
      "t = 0.45 N = 26 x_min =  -1.99068448245\n",
      "t = 0.45 N = 26 x_min =  -1.99068448245\n",
      "t = 0.5 N = 26 x_min =  -1.99068445712\n",
      "t = 0.5 N = 26 x_min =  -1.99068445712\n",
      "t = 0.5 N = 26 x_min =  -1.99068445712\n",
      "t = 0.5 N = 26 x_min =  -1.99068445712\n",
      "t = 0.5 N = 26 x_min =  -1.99068445712\n",
      "t = 0.55 N = 26 x_min =  -1.99068446877\n",
      "t = 0.55 N = 26 x_min =  -1.99068446877\n",
      "t = 0.55 N = 26 x_min =  -1.99068446877\n",
      "t = 0.55 N = 26 x_min =  -1.99068446877\n",
      "t = 0.55 N = 26 x_min =  -1.99068446877\n",
      "t = 0.6 N = 28 x_min =  -1.99068447012\n",
      "t = 0.6 N = 28 x_min =  -1.99068447012\n",
      "t = 0.6 N = 28 x_min =  -1.99068447012\n",
      "t = 0.6 N = 28 x_min =  -1.99068447012\n",
      "t = 0.6 N = 28 x_min =  -1.99068447012\n",
      "t = 0.65 N = 28 x_min =  -1.9906844488\n",
      "t = 0.65 N = 28 x_min =  -1.9906844488\n",
      "t = 0.65 N = 28 x_min =  -1.9906844488\n",
      "t = 0.65 N = 28 x_min =  -1.9906844488\n",
      "t = 0.65 N = 28 x_min =  -1.9906844488\n",
      "t = 0.7 N = 29 x_min =  -1.99068441957\n",
      "t = 0.7 N = 29 x_min =  -1.99068441957\n",
      "t = 0.7 N = 29 x_min =  -1.99068441957\n",
      "t = 0.7 N = 29 x_min =  -1.99068441957\n",
      "t = 0.7 N = 29 x_min =  -1.99068441957\n",
      "t = 0.75 N = 31 x_min =  -1.99068445583\n",
      "t = 0.75 N = 31 x_min =  -1.99068445583\n",
      "t = 0.75 N = 31 x_min =  -1.99068445583\n",
      "t = 0.75 N = 31 x_min =  -1.99068445583\n",
      "t = 0.75 N = 31 x_min =  -1.99068445583\n",
      "t = 0.8 N = 36 x_min =  -1.99068445173\n",
      "t = 0.8 N = 36 x_min =  -1.99068445173\n",
      "t = 0.8 N = 36 x_min =  -1.99068445173\n",
      "t = 0.8 N = 36 x_min =  -1.99068445173\n",
      "t = 0.8 N = 36 x_min =  -1.99068445173\n",
      "t = 0.85 N = 43 x_min =  -1.99068445616\n",
      "t = 0.85 N = 43 x_min =  -1.99068445616\n",
      "t = 0.85 N = 43 x_min =  -1.99068445616\n",
      "t = 0.85 N = 43 x_min =  -1.99068445616\n",
      "t = 0.85 N = 43 x_min =  -1.99068445616\n",
      "t = 0.9 N = 49 x_min =  -1.99068445998\n",
      "t = 0.9 N = 49 x_min =  -1.99068445998\n",
      "t = 0.9 N = 49 x_min =  -1.99068445998\n",
      "t = 0.9 N = 49 x_min =  -1.99068445998\n",
      "t = 0.9 N = 49 x_min =  -1.99068445998\n",
      "t = 0.95 N = 95 x_min =  -1.99068444307\n",
      "t = 0.95 N = 95 x_min =  -1.99068444307\n",
      "t = 0.95 N = 95 x_min =  -1.99068444307\n",
      "t = 0.95 N = 95 x_min =  -1.99068444307\n",
      "t = 0.95 N = 95 x_min =  -1.99068444307\n"
     ]
    }
   ],
   "source": [
    "a = -5\n",
    "b = 0\n",
    "eps = 10**(-7)\n",
    "for t in np.arange(0.05, 1, 0.05):\n",
    "    for i in range(0, 5, 1):\n",
    "        print \"t =\", t, \"N =\", search(f, a, b, t, eps)[1], \"x_min = \", search(f, a, b, t, eps)[0]"
   ]
  },
  {
   "cell_type": "markdown",
   "metadata": {},
   "source": [
    "Заметим, что число итераций не изменяется в опытах при одинаковом $t$."
   ]
  },
  {
   "cell_type": "code",
   "execution_count": 25,
   "metadata": {},
   "outputs": [
    {
     "data": {
      "image/png": "[encoded data removed]",
      "text/plain": [
       "<matplotlib.figure.Figure at 0x11a7cbd90>"
      ]
     },
     "metadata": {
      "needs_background": "light"
     },
     "output_type": "display_data"
    }
   ],
   "source": [
    "T = np.linspace(0, 1, 1000)[1:-1]\n",
    "N = np.array([search(f, a, b, t, eps)[1] for t in T])\n",
    "plt.plot(T, N)\n",
    "plt.title(\"Dependence of the number of iterations on the parameter t\")\n",
    "plt.xlabel(\"t\")\n",
    "plt.ylabel(\"N(t)\")\n",
    "\n",
    "plt.show()"
   ]
  },
  {
   "cell_type": "markdown",
   "metadata": {},
   "source": [
    "Рассмотрим значения $N(t)$ в меньшем промежутке."
   ]
  },
  {
   "cell_type": "code",
   "execution_count": 26,
   "metadata": {},
   "outputs": [
    {
     "data": {
      "image/png": "[encoded data removed]",
      "text/plain": [
       "<matplotlib.figure.Figure at 0x10eb86490>"
      ]
     },
     "metadata": {
      "needs_background": "light"
     },
     "output_type": "display_data"
    }
   ],
   "source": [
    "T = np.linspace(0.2, 0.8, 1000)[1:-1]\n",
    "N = np.array([search(f, a, b, t, eps)[1] for t in T])\n",
    "plt.plot(T, N)\n",
    "plt.xlabel(\"t\")\n",
    "plt.ylabel(\"N(t)\")\n",
    "plt.title(\"Dependence of the number of iterations on the parameter t\")\n",
    "plt.show()"
   ]
  },
  {
   "cell_type": "markdown",
   "metadata": {},
   "source": [
    "### Эксперементы при равновероятном выборе $t \\in [0,1]$ на кажом шаге."
   ]
  },
  {
   "cell_type": "code",
   "execution_count": 27,
   "metadata": {},
   "outputs": [],
   "source": [
    "def stochastic_search(f, a, b, iter, epsilon, iterations = True):\n",
    "    t = np.random.rand(1)\n",
    "    c = a + t*(b - a)\n",
    "    i = 0\n",
    "    F = [f(c)]\n",
    "    if iterations:\n",
    "        while i < iter:\n",
    "            t = np.random.rand(1)\n",
    "            i = i + 1\n",
    "            y = a + t*(c - a) \n",
    "            if f(y) <= f(c):\n",
    "                b = c\n",
    "                c = y\n",
    "            else:\n",
    "                z = c + t*(b - c) \n",
    "                if f(c) <= f(z):\n",
    "                    a = y\n",
    "                    b = z\n",
    "                    c = a + t * (b - a)\n",
    "                else:\n",
    "                    a = c\n",
    "                    c = z\n",
    "            F.append(f(c))\n",
    "        return c, i, np.array(F)\n",
    "    else:\n",
    "        while abs(b-a) >= epsilon:\n",
    "            t = np.random.rand(1)\n",
    "            i = i + 1\n",
    "            y = a + t*(c - a) \n",
    "            if f(y) <= f(c):\n",
    "                b = c\n",
    "                c = y\n",
    "            else:\n",
    "                z = c + t*(b - c) \n",
    "                if f(c) <= f(z):\n",
    "                    a = y\n",
    "                    b = z\n",
    "                    c = a + t * (b - a)\n",
    "                else:\n",
    "                    a = c\n",
    "                    c = z\n",
    "        return c, i, f(c)"
   ]
  },
  {
   "cell_type": "code",
   "execution_count": 28,
   "metadata": {},
   "outputs": [
    {
     "data": {
      "text/plain": [
       "<Container object of 3 artists>"
      ]
     },
     "execution_count": 28,
     "metadata": {},
     "output_type": "execute_result"
    },
    {
     "data": {
      "image/png": "[encoded data removed]",
      "text/plain": [
       "<matplotlib.figure.Figure at 0x11a7cbf90>"
      ]
     },
     "metadata": {
      "needs_background": "light"
     },
     "output_type": "display_data"
    }
   ],
   "source": [
    "iter = 15\n",
    "N_exp = 50\n",
    "F = np.zeros((N_exp, iter+1))\n",
    "for i in range(N_exp):\n",
    "    F[i, :] = stochastic_search(f, a, b, iter, eps, True)[2].ravel()\n",
    "F_mean = np.array([F[:,i].mean() for i in range(iter+1)])\n",
    "F_err = np.array([F[:,i].std() for i in range(iter+1)])\n",
    "iterations = np.arange(0, iter+1)\n",
    "plt.xlabel(\"N\")\n",
    "plt.ylabel(\"<f_N>\")\n",
    "plt.title(\"The dependence of the function on the number of iteration. Number of experements = 50\")\n",
    "plt.plot(iterations, F_mean, c = 'red')\n",
    "plt.errorbar(iterations, F_mean, fmt='bo', yerr=F_err)"
   ]
  },
  {
   "cell_type": "code",
   "execution_count": 29,
   "metadata": {},
   "outputs": [
    {
     "data": {
      "text/plain": [
       "<Container object of 3 artists>"
      ]
     },
     "execution_count": 29,
     "metadata": {},
     "output_type": "execute_result"
    },
    {
     "data": {
      "image/png": "[encoded data removed]",
      "text/plain": [
       "<matplotlib.figure.Figure at 0x11a7cb6d0>"
      ]
     },
     "metadata": {
      "needs_background": "light"
     },
     "output_type": "display_data"
    }
   ],
   "source": [
    "iter = 15\n",
    "N_exp = 10000\n",
    "F = np.zeros((N_exp, iter+1))\n",
    "for i in range(N_exp):\n",
    "    F[i, :] = stochastic_search(f, a, b, iter, eps, True)[2].ravel()\n",
    "F_mean = np.array([F[:,i].mean() for i in range(iter+1)])\n",
    "F_err = np.array([F[:,i].std() for i in range(iter+1)])\n",
    "iterations = np.arange(0, iter+1)\n",
    "plt.xlabel(\"N\")\n",
    "plt.ylabel(\"<f_N>\")\n",
    "plt.title(\"The dependence of the function on the number of iteration. Number of experiments = 10000\")\n",
    "plt.plot(iterations, F_mean, c = 'red')\n",
    "plt.errorbar(iterations, F_mean, fmt='bo', yerr=F_err)"
   ]
  },
  {
   "cell_type": "markdown",
   "metadata": {},
   "source": [
    "При случайном равновероятном выборе $t$ на каждом шаге мы получили, что при номере итераций больше $10$ значения функции становятся практически одинаковыми. Это объясняется тем, что алгоритм сходится независимо от $t \\in [0,1]$.\n",
    "\n",
    "При небольшом числе итераций функция убывает не монотонно, как раз из-за случайности. Но при выборе большого числа итераций, как $N=10000$, монотонность среднего значения появляется."
   ]
  },
  {
   "cell_type": "markdown",
   "metadata": {},
   "source": [
    "### Сравнение по числу итераций "
   ]
  },
  {
   "cell_type": "code",
   "execution_count": 30,
   "metadata": {},
   "outputs": [
    {
     "name": "stdout",
     "output_type": "stream",
     "text": [
      "39.47\n"
     ]
    }
   ],
   "source": [
    "N_exp = 100\n",
    "I = np.zeros(N_exp)\n",
    "for i in range(N_exp):\n",
    "    I[i] = stochastic_search(f, a, b, iter, eps, False)[1]\n",
    "i_mean = np.mean(I)\n",
    "print i_mean"
   ]
  },
  {
   "cell_type": "markdown",
   "metadata": {},
   "source": [
    "Сравним среднее число итераций $2$-ого алгоритма с числом итераций для каждого $t$ $1$-ого алгоритма."
   ]
  },
  {
   "cell_type": "code",
   "execution_count": 31,
   "metadata": {
    "scrolled": true
   },
   "outputs": [
    {
     "data": {
      "image/png": "[encoded data removed]",
      "text/plain": [
       "<matplotlib.figure.Figure at 0x10ede1050>"
      ]
     },
     "metadata": {
      "needs_background": "light"
     },
     "output_type": "display_data"
    }
   ],
   "source": [
    "T = np.linspace(0.1, 0.9, 1000)[1:-1]\n",
    "N = np.array([search(f, a, b, t, eps)[1] for t in T])\n",
    "I_mean = np.array([i_mean for t in T])\n",
    "plt.plot(T, N)\n",
    "plt.plot(T, I_mean)\n",
    "plt.title(\"Dependence of the number of iterations on the parameter t\")\n",
    "plt.xlabel(\"t\")\n",
    "plt.ylabel(\"N(t)\")\n",
    "\n",
    "plt.show()"
   ]
  },
  {
   "cell_type": "markdown",
   "metadata": {},
   "source": [
    "Понятно, что при \"хорошем\" выборе $t$ $1$-ый алгоритм работает лучше. По графику видно, что \"хороший\" выбор $t$ -- практичеки все $t$ лежащие в интервале $(0.2,0.8)$.\n",
    "\n",
    "Среднее значение числа итераций $1$-ого алгоритма кажется не имеет особого смысла, т.к. при очень малом и очень большом значении $t$ число итераций становится огромным."
   ]
  },
  {
   "cell_type": "markdown",
   "metadata": {},
   "source": [
    "## Задача 3"
   ]
  },
  {
   "cell_type": "code",
   "execution_count": 32,
   "metadata": {},
   "outputs": [],
   "source": [
    "import numpy as np\n",
    "def dichotomy(a, b, c, x1, x2, epsilon):\n",
    "    def f(x):\n",
    "        return a*x**2+b*x+c\n",
    "    array_of_5_last_iterations = np.empty([5])\n",
    "    if x1 >= x2:\n",
    "        return 'x1 >= x2'\n",
    "    else:\n",
    "        x = (x1 + x2)/2.\n",
    "        while abs(x1-x2) > epsilon:\n",
    "            y = (x1 + x)/2.\n",
    "            if f(y) <= f(x):\n",
    "                x2 = x\n",
    "                x = y\n",
    "            else:\n",
    "                z = (x+x2)/2.\n",
    "                if f(x) <= f(z):\n",
    "                    x1 = y\n",
    "                    x2 = z\n",
    "                else: \n",
    "                    x1 = x\n",
    "                    x = z\n",
    "            array_of_5_last_iterations[:4] = array_of_5_last_iterations[1:]\n",
    "            array_of_5_last_iterations[4] = f(x) \n",
    "        #raise NotImplementedError()\n",
    "        return array_of_5_last_iterations\n"
   ]
  },
  {
   "cell_type": "markdown",
   "metadata": {},
   "source": [
    "Пример работы и целевая функция:"
   ]
  },
  {
   "cell_type": "code",
   "execution_count": 42,
   "metadata": {},
   "outputs": [
    {
     "data": {
      "text/plain": [
       "[<matplotlib.lines.Line2D at 0x10ec0a490>]"
      ]
     },
     "execution_count": 42,
     "metadata": {},
     "output_type": "execute_result"
    },
    {
     "data": {
      "image/png": "[encoded data removed]",
      "text/plain": [
       "<matplotlib.figure.Figure at 0x10ef8e350>"
      ]
     },
     "metadata": {
      "needs_background": "light"
     },
     "output_type": "display_data"
    }
   ],
   "source": [
    "a = 5\n",
    "b = 2\n",
    "c = 10\n",
    "x1 = -1\n",
    "x2 = 2\n",
    "X = np.linspace(x1, x2, 1000)\n",
    "F = np.array([(a*x**2+b*x+c) for x in X])\n",
    "plt.plot(X, F)"
   ]
  },
  {
   "cell_type": "code",
   "execution_count": 43,
   "metadata": {},
   "outputs": [
    {
     "name": "stdout",
     "output_type": "stream",
     "text": [
      "[ 9.8  9.8  9.8  9.8  9.8]\n"
     ]
    }
   ],
   "source": [
    "print dichotomy(a, b, c, x1, x2, 10**(-7))"
   ]
  },
  {
   "cell_type": "markdown",
   "metadata": {},
   "source": [
    "## Задача 4"
   ]
  },
  {
   "cell_type": "code",
   "execution_count": 44,
   "metadata": {},
   "outputs": [],
   "source": [
    "import numpy as np\n",
    "def fibonacci(a,b,c,x1,x2, epsilon):\n",
    "    array_of_5_last_iterations = np.empty([5])\n",
    "    def f(x):\n",
    "        return a*x**2+b*x+c\n",
    "    def fib_numbers(n):\n",
    "        if n <= 0:\n",
    "            print \"no fibonacci number\"\n",
    "        else:\n",
    "            if n == 1:\n",
    "                return [1]\n",
    "            else:\n",
    "                res = [1 ,1]\n",
    "                for i in range(2, n):\n",
    "                    res.append(res[-2]+res[-1])\n",
    "                return res\n",
    "    if x1 >= x2:\n",
    "        return 'x1 >= x2'\n",
    "    else:\n",
    "        n = 1\n",
    "        while fib_numbers(n)[-1] < (x2-x1)/eps:\n",
    "            n = n + 1\n",
    "        n = n + 1\n",
    "        while True:\n",
    "            x = x1 + (fib_numbers(n-2)[-1]/(fib_numbers(n)[-1]*1.))*(x2-x1)\n",
    "            y = x1 + (fib_numbers(n-1)[-1]/(fib_numbers(n)[-1]*1.))*(x2-x1)\n",
    "            if f(x) > f(y):\n",
    "                x1 = x\n",
    "                x = y\n",
    "                n = n - 1\n",
    "                y = x1 + (fib_numbers(n-1)[-1]/(fib_numbers(n)[-1]*1.))*(x2-x1)\n",
    "            else: \n",
    "                x2 = y\n",
    "                y = x\n",
    "                n = n - 1\n",
    "                x = x1 + (fib_numbers(n-2)[-1]/(fib_numbers(n)[-1]*1.))*(x2-x1)\n",
    "            array_of_5_last_iterations[:4] = array_of_5_last_iterations[1:]\n",
    "            array_of_5_last_iterations[4] = f((x1+x2)/2.)\n",
    "            if epsilon >= (x2-x1):\n",
    "                break\n",
    "        return array_of_5_last_iterations\n",
    "        \n",
    "    \n",
    "    #raise NotImplementedError()"
   ]
  },
  {
   "cell_type": "code",
   "execution_count": 45,
   "metadata": {
    "scrolled": true
   },
   "outputs": [
    {
     "name": "stdout",
     "output_type": "stream",
     "text": [
      "[ 9.8  9.8  9.8  9.8  9.8]\n"
     ]
    }
   ],
   "source": [
    "eps = 10**(-7)\n",
    "print fibonacci(a, b, c, x1, x2, eps)"
   ]
  },
  {
   "cell_type": "code",
   "execution_count": null,
   "metadata": {},
   "outputs": [],
   "source": []
  }
 ],
 "metadata": {
  "kernelspec": {
   "display_name": "Python 2",
   "language": "python",
   "name": "python2"
  },
  "language_info": {
   "codemirror_mode": {
    "name": "ipython",
    "version": 2
   },
   "file_extension": ".py",
   "mimetype": "text/x-python",
   "name": "python",
   "nbconvert_exporter": "python",
   "pygments_lexer": "ipython2",
   "version": "2.7.15"
  }
 },
 "nbformat": 4,
 "nbformat_minor": 2
}
